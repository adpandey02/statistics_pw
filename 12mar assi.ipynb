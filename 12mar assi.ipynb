{
 "cells": [
  {
   "cell_type": "code",
   "execution_count": 4,
   "id": "f427fb8e-21eb-445a-889a-43560aa9504e",
   "metadata": {},
   "outputs": [],
   "source": [
    "import scipy.stats as stat\n",
    "import numpy as np"
   ]
  },
  {
   "cell_type": "markdown",
   "id": "e5335380-5742-4fef-9111-7700195afba2",
   "metadata": {},
   "source": [
    "## 1"
   ]
  },
  {
   "cell_type": "code",
   "execution_count": null,
   "id": "17835734-389f-4182-bb3a-e12370496e0f",
   "metadata": {},
   "outputs": [],
   "source": [
    "Q1. Calculate the 95% confidence interval for a sample of data with a mean of 50 and a standard deviation\n",
    "of 5 using Python. Interpret the results.\n",
    "\n",
    "ans- 1. i think there is some problem with the question, sample size is not provided , without that how can\n",
    "\n",
    "      the confidance interval be calculated , CI formula requires sample size as an input ."
   ]
  },
  {
   "cell_type": "markdown",
   "id": "3ca22cd4-9ec4-4eab-a905-f1f43853b3c2",
   "metadata": {},
   "source": [
    "## 2"
   ]
  },
  {
   "cell_type": "code",
   "execution_count": 3,
   "id": "3eff0079-72c1-46ae-b344-35efa8002344",
   "metadata": {},
   "outputs": [],
   "source": [
    "ans-2 : again importand info is missing , the sample size is not given plus observed values/frequencies are also not given\n",
    "\n",
    "        without them the question can't be soved, plz recheck the question and if we are to assume these datails ourselves \n",
    "    \n",
    "        while solving the question , plz mention so in the question statement itself from now onwards."
   ]
  },
  {
   "cell_type": "code",
   "execution_count": null,
   "id": "c2ee9fd6-67d0-4561-a5be-65ad1284c513",
   "metadata": {},
   "outputs": [],
   "source": [
    "i have assumed for reference the \n",
    "A) sample size to be 200\n",
    "B) the observed frequencies for each color\n",
    "   observed = [30, 40, 35, 20, 25, 50]"
   ]
  },
  {
   "cell_type": "code",
   "execution_count": 10,
   "id": "a93c5935-c89f-4242-9ebe-264c4b0f8a53",
   "metadata": {},
   "outputs": [],
   "source": [
    "observed = [30, 40, 35, 20, 25, 50]\n",
    "expected = [0.2*200, 0.2*200, 0.2*200, 0.1*200, 0.1*200, 0.2*200]\n",
    "significance_lvl = 0.05\n",
    "\n",
    "chi_stat_value , p_value = stat.chisquare(observed , expected)"
   ]
  },
  {
   "cell_type": "code",
   "execution_count": 11,
   "id": "f2a45ef9-98df-44be-8b11-08204f53693e",
   "metadata": {},
   "outputs": [
    {
     "data": {
      "text/plain": [
       "(6.875, 0.23010394967682962)"
      ]
     },
     "execution_count": 11,
     "metadata": {},
     "output_type": "execute_result"
    }
   ],
   "source": [
    "chi_stat_value, p_value"
   ]
  },
  {
   "cell_type": "code",
   "execution_count": 49,
   "id": "8f9eecd5-9e70-4830-92cd-54b60d75d0e4",
   "metadata": {},
   "outputs": [],
   "source": [
    "def test_fun(sign_lvl, p_value):\n",
    "    '''level of significance , p value'''\n",
    "    if sign_lvl > p_value:\n",
    "        return 'null hypothesis rejected'\n",
    "    else:\n",
    "        return 'fail to reject null hypothesis'"
   ]
  },
  {
   "cell_type": "code",
   "execution_count": 13,
   "id": "f66eb75d-35e4-47c8-a7b7-58e9ec5bbb03",
   "metadata": {},
   "outputs": [
    {
     "data": {
      "text/plain": [
       "'fail to reject null hypothesis'"
      ]
     },
     "execution_count": 13,
     "metadata": {},
     "output_type": "execute_result"
    }
   ],
   "source": [
    "test_fun(significance_lvl, p_value)"
   ]
  },
  {
   "cell_type": "markdown",
   "id": "c7f021c2-21ba-4d75-ab55-96325e6e0975",
   "metadata": {},
   "source": [
    "## 3"
   ]
  },
  {
   "cell_type": "code",
   "execution_count": 21,
   "id": "9499780c-5f8f-4547-94bd-bdd7dd30b258",
   "metadata": {},
   "outputs": [
    {
     "name": "stdout",
     "output_type": "stream",
     "text": [
      "Chi-square statistic: 5.833333333333334\n",
      "P-value: 0.05411376622282158\n"
     ]
    }
   ],
   "source": [
    "from scipy.stats import chi2_contingency\n",
    "\n",
    "# create contingency table\n",
    "observed = np.array([[20, 15],\n",
    "                     [10, 25],\n",
    "                     [15, 20]])\n",
    "\n",
    "assumed_level_of_significance = 0.05\n",
    "\n",
    "# calculate chi-square statistic and p-value\n",
    "chi2, p, dof, expected = chi2_contingency(observed)\n",
    "critical_val = stat.chi2.ppf(1-0.05 , dof)\n",
    "\n",
    "# print results\n",
    "print(\"Chi-square statistic:\", chi2)\n",
    "print(\"P-value:\", p)\n"
   ]
  },
  {
   "cell_type": "code",
   "execution_count": 22,
   "id": "c783fb18-15ca-4634-9d6b-2c8ff3a18dc9",
   "metadata": {},
   "outputs": [
    {
     "data": {
      "text/plain": [
       "'fail to reject null hypothesis'"
      ]
     },
     "execution_count": 22,
     "metadata": {},
     "output_type": "execute_result"
    }
   ],
   "source": [
    "test_fun(assumed_level_of_significance, p)"
   ]
  },
  {
   "cell_type": "code",
   "execution_count": null,
   "id": "88b69ab3-75c3-4d58-a034-c0ac059e2645",
   "metadata": {},
   "outputs": [],
   "source": [
    "This indicates that there is no significant association between the two groups and the three outcomes at the 0.05 significance level,\n",
    "since the p-value is greater than 0.05."
   ]
  },
  {
   "cell_type": "markdown",
   "id": "055a8683-08a9-4f8f-acda-64f467b81d80",
   "metadata": {},
   "source": [
    "## 4"
   ]
  },
  {
   "cell_type": "code",
   "execution_count": 23,
   "id": "89323478-9bef-4033-b51a-52af8471cdf8",
   "metadata": {},
   "outputs": [
    {
     "name": "stdout",
     "output_type": "stream",
     "text": [
      "95% Confidence Interval: [0.0915, 0.1485]\n"
     ]
    }
   ],
   "source": [
    "\n",
    "n = 500\n",
    "x = 60\n",
    "p_hat = x / n\n",
    "\n",
    "z_alpha_half = 1.96  # z-value for 95% confidence interval\n",
    "\n",
    "se = np.sqrt(p_hat * (1 - p_hat) / n)\n",
    "\n",
    "lower_ci = p_hat - z_alpha_half * se\n",
    "upper_ci = p_hat + z_alpha_half * se\n",
    "\n",
    "print(\"95% Confidence Interval: [{:.4f}, {:.4f}]\".format(lower_ci, upper_ci))\n"
   ]
  },
  {
   "cell_type": "markdown",
   "id": "0599b4ff-aabf-4e23-9653-3fa3de9017b1",
   "metadata": {},
   "source": [
    "## 5"
   ]
  },
  {
   "cell_type": "code",
   "execution_count": null,
   "id": "ae6dc1fe-aaeb-4478-b8ad-52a46ae338ad",
   "metadata": {},
   "outputs": [],
   "source": [
    "!!! there is no sample size given again, which is neeed for calculation of confidance interval \n",
    "    \n",
    "    so i will assume sample size to be 30"
   ]
  },
  {
   "cell_type": "code",
   "execution_count": 30,
   "id": "a30bd8fb-8ad7-4b53-82a0-b8cd72634919",
   "metadata": {},
   "outputs": [
    {
     "name": "stdout",
     "output_type": "stream",
     "text": [
      "90% Confidence Interval: [74.3203, 75.6797]\n"
     ]
    }
   ],
   "source": [
    "n = 30  # sample size\n",
    "xbar = 75  # sample mean\n",
    "s = 12  # sample standard deviation\n",
    "alpha = 0.10  # significance level\n",
    "\n",
    "t_critical = stat.t.ppf(1-0.10/2, n-1)\n",
    "standard_error = t_critical*(s/n)\n",
    "\n",
    "upper_interval = xbar+standard_error\n",
    "lower_interval = xbar-standard_error\n",
    "\n",
    "print(\"90% Confidence Interval: [{:.4f}, {:.4f}]\".format(lower_interval, upper_interval))"
   ]
  },
  {
   "cell_type": "markdown",
   "id": "5b538339-eb8b-47b4-b0a4-c36ad715ea55",
   "metadata": {},
   "source": [
    "## 6"
   ]
  },
  {
   "cell_type": "code",
   "execution_count": 41,
   "id": "f769e3e0-1093-4caa-9252-0b0d5f374f6c",
   "metadata": {},
   "outputs": [
    {
     "data": {
      "image/png": "[encoded data removed]",
      "text/plain": [
       "<Figure size 800x500 with 1 Axes>"
      ]
     },
     "metadata": {},
     "output_type": "display_data"
    }
   ],
   "source": [
    "import matplotlib.pyplot as plt\n",
    "import scipy.stats as stats\n",
    "\n",
    "# Define the degrees of freedom\n",
    "df = 10\n",
    "\n",
    "# Define the range of x values\n",
    "x = np.linspace(0, 30, 500)\n",
    "\n",
    "# Calculate the chi-square distribution\n",
    "chisq_dist = stats.chi2.pdf(x, df)\n",
    "\n",
    "# Create the plot\n",
    "fig, ax = plt.subplots(figsize=(8, 5))\n",
    "ax.plot(x, chisq_dist, 'b-', linewidth=2)\n",
    "\n",
    "x_shade = np.linspace(15, 30, 15)\n",
    "y_shade = stats.chi2.pdf(x_shade, df)\n",
    "ax.fill_between(x_shade, y_shade, color='blue', alpha=0.2)\n",
    "\n",
    "ax.set_xlabel('Chi-Square Value', fontsize=12)\n",
    "ax.set_ylabel('Probability Density', fontsize=12)\n",
    "ax.set_title('Chi-Square Distribution with df=10', fontsize=14)\n",
    "plt.show()"
   ]
  },
  {
   "cell_type": "markdown",
   "id": "c3324e18-4ebe-4ed1-8661-0dfda920ab95",
   "metadata": {},
   "source": [
    "## 7"
   ]
  },
  {
   "cell_type": "code",
   "execution_count": 42,
   "id": "2f3348e3-479d-4724-bf6d-954f7f4c4a54",
   "metadata": {},
   "outputs": [],
   "source": [
    "z_value = stat.norm.ppf(1-0.01/2)"
   ]
  },
  {
   "cell_type": "code",
   "execution_count": 46,
   "id": "1ee5d443-8b9c-4dd7-b3b8-b1d96c226de2",
   "metadata": {},
   "outputs": [
    {
     "name": "stdout",
     "output_type": "stream",
     "text": [
      "99% Confidence Interval: [0.4986, 0.5414]\n"
     ]
    }
   ],
   "source": [
    "coke = 520\n",
    "pepsi = 1000-520\n",
    "\n",
    "p_hat = coke/1000\n",
    "se = (p_hat*(1-p_hat)) / n\n",
    "\n",
    "lower = p_hat - z_value*se\n",
    "upper = p_hat + z_value*se\n",
    "\n",
    "print(\"99% Confidence Interval: [{:.4f}, {:.4f}]\".format(lower, upper))\n"
   ]
  },
  {
   "cell_type": "markdown",
   "id": "4ffb8a75-57b9-485d-b54a-460a4ca24262",
   "metadata": {},
   "source": [
    "## 8"
   ]
  },
  {
   "cell_type": "code",
   "execution_count": 47,
   "id": "b4ad5629-1b80-4613-a987-c9c372df8e9a",
   "metadata": {},
   "outputs": [],
   "source": [
    "expected = [0.5, 0.5]\n",
    "observed = [0.55, 0.45]\n",
    "alpha=0.05"
   ]
  },
  {
   "cell_type": "code",
   "execution_count": null,
   "id": "ea86b64f-984e-4e30-a83e-12bd37e6b245",
   "metadata": {},
   "outputs": [],
   "source": [
    "Null Hypothesis (H0):          The coin is fair and not biased towards tails.\n",
    "Alternative Hypothesis (Ha):   The coin is biased towards tails."
   ]
  },
  {
   "cell_type": "code",
   "execution_count": 48,
   "id": "a25e94b6-858b-49ed-887a-a83a25ba6998",
   "metadata": {},
   "outputs": [
    {
     "data": {
      "text/plain": [
       "(0.010000000000000005, 0.920344325445942)"
      ]
     },
     "execution_count": 48,
     "metadata": {},
     "output_type": "execute_result"
    }
   ],
   "source": [
    "chi_stat , p_value = stat.chisquare(observed, expected)\n",
    "chi_stat, p_value"
   ]
  },
  {
   "cell_type": "code",
   "execution_count": 50,
   "id": "9d0ea300-eed5-4022-a91a-5af83d2ef553",
   "metadata": {},
   "outputs": [
    {
     "data": {
      "text/plain": [
       "'fail to reject null hypothesis'"
      ]
     },
     "execution_count": 50,
     "metadata": {},
     "output_type": "execute_result"
    }
   ],
   "source": [
    "test_fun(alpha, p_value)"
   ]
  },
  {
   "cell_type": "markdown",
   "id": "60135d67-2011-49e9-b09e-cddefa90ff42",
   "metadata": {},
   "source": [
    "## 9"
   ]
  },
  {
   "cell_type": "code",
   "execution_count": null,
   "id": "27433f41-fd59-457e-92aa-faa30840f13b",
   "metadata": {},
   "outputs": [],
   "source": [
    "Null hypothesis:            Smoking status and lung cancer diagnosis are independent of each other.\n",
    "Alternative hypothesis:     Smoking status and lung cancer diagnosis are not independent of each other."
   ]
  },
  {
   "cell_type": "code",
   "execution_count": 55,
   "id": "3a7aef00-8cb3-471b-8cba-d95d1e218057",
   "metadata": {},
   "outputs": [],
   "source": [
    "observed = np.array([[60, 140],\n",
    "                     [30, 170]])\n",
    "alpha=0.05"
   ]
  },
  {
   "cell_type": "code",
   "execution_count": 54,
   "id": "3be81145-0858-4d0d-acc5-6983e928e7ab",
   "metadata": {},
   "outputs": [],
   "source": [
    "chi2_stat,p_value,df,expected = chi2_contingency(observed)"
   ]
  },
  {
   "cell_type": "code",
   "execution_count": 56,
   "id": "e83a3a56-864d-4b9c-98bd-3ab7fb343132",
   "metadata": {},
   "outputs": [
    {
     "data": {
      "text/plain": [
       "'null hypothesis rejected'"
      ]
     },
     "execution_count": 56,
     "metadata": {},
     "output_type": "execute_result"
    }
   ],
   "source": [
    "test_fun(alpha, p_value)"
   ]
  },
  {
   "cell_type": "markdown",
   "id": "dc419aa9-0afc-43ec-bba7-3a528be5d121",
   "metadata": {},
   "source": [
    "## 10"
   ]
  },
  {
   "cell_type": "code",
   "execution_count": null,
   "id": "2c2b5eb6-bb76-4410-aba5-953d4f97f088",
   "metadata": {},
   "outputs": [],
   "source": [
    "Null hypothesis:            there is no significant association between chocolate preference and country of origin.\n",
    "Alternative hypothesis:     there is a significant association between chocolate preference and country of origin."
   ]
  },
  {
   "cell_type": "code",
   "execution_count": 61,
   "id": "f8ea7089-e822-4375-a28d-c7aea47daf2a",
   "metadata": {},
   "outputs": [],
   "source": [
    "observed = np.array([[200, 150, 150], [225, 175, 100]])\n",
    "alpha = 0.01"
   ]
  },
  {
   "cell_type": "code",
   "execution_count": 62,
   "id": "8f802aa4-68b6-4858-b59a-fe2d8035bbe6",
   "metadata": {},
   "outputs": [
    {
     "data": {
      "text/plain": [
       "0.0012348168997745918"
      ]
     },
     "execution_count": 62,
     "metadata": {},
     "output_type": "execute_result"
    }
   ],
   "source": [
    "chi2_stats, p, df, expected = chi2_contingency(observed)\n",
    "p"
   ]
  },
  {
   "cell_type": "code",
   "execution_count": 63,
   "id": "864397e3-b47c-4642-a57a-cdf1c361a757",
   "metadata": {},
   "outputs": [
    {
     "data": {
      "text/plain": [
       "'null hypothesis rejected'"
      ]
     },
     "execution_count": 63,
     "metadata": {},
     "output_type": "execute_result"
    }
   ],
   "source": [
    "test_fun(alpha, p)"
   ]
  },
  {
   "cell_type": "markdown",
   "id": "ce828e5c-1100-4548-a7da-58954cfab1ed",
   "metadata": {},
   "source": [
    "## 11"
   ]
  },
  {
   "cell_type": "code",
   "execution_count": null,
   "id": "661f18f5-82c7-4bc6-b496-939130cc56b8",
   "metadata": {},
   "outputs": [],
   "source": [
    "NULL HYPOTHESIS :       population mean is not significantly different from 70.\n",
    "ALTERNATE HYPOTHESIS :  population mean is significantly different from 70."
   ]
  },
  {
   "cell_type": "code",
   "execution_count": 64,
   "id": "e7734901-ac88-4226-9e1a-5be9dac0d8f4",
   "metadata": {},
   "outputs": [
    {
     "name": "stdout",
     "output_type": "stream",
     "text": [
      "t-statistic: 1.24\n",
      "p-value: 0.223\n"
     ]
    },
    {
     "data": {
      "text/plain": [
       "'fail to reject null hypothesis'"
      ]
     },
     "execution_count": 64,
     "metadata": {},
     "output_type": "execute_result"
    }
   ],
   "source": [
    "\n",
    "from scipy.stats import ttest_1samp\n",
    "\n",
    "# Define the sample statistics\n",
    "sample_mean = 72\n",
    "sample_std = 10\n",
    "sample_size = 30\n",
    "alpha=0.05\n",
    "\n",
    "# Define the hypothetical population mean\n",
    "null_mean = 70\n",
    "\n",
    "# Calculate the t-statistic and p-value\n",
    "t_statistic, p_value = ttest_1samp(np.random.normal(sample_mean, sample_std, sample_size), null_mean)\n",
    "\n",
    "# Print the results\n",
    "print(f\"t-statistic: {t_statistic:.2f}\")\n",
    "print(f\"p-value: {p_value:.3f}\")\n",
    "test_fun(alpha, p_value)"
   ]
  },
  {
   "cell_type": "code",
   "execution_count": null,
   "id": "7b7e975e-b61b-4971-a80a-c4975a5752d7",
   "metadata": {},
   "outputs": [],
   "source": []
  }
 ],
 "metadata": {
  "kernelspec": {
   "display_name": "Python 3 (ipykernel)",
   "language": "python",
   "name": "python3"
  },
  "language_info": {
   "codemirror_mode": {
    "name": "ipython",
    "version": 3
   },
   "file_extension": ".py",
   "mimetype": "text/x-python",
   "name": "python",
   "nbconvert_exporter": "python",
   "pygments_lexer": "ipython3",
   "version": "3.10.8"
  }
 },
 "nbformat": 4,
 "nbformat_minor": 5
}
