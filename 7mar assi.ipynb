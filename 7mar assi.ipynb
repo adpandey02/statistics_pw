{
 "cells": [
  {
   "cell_type": "code",
   "execution_count": null,
   "id": "d85d82a7-206b-469c-867f-1ad69fc117c6",
   "metadata": {},
   "outputs": [],
   "source": [
    "'''\n",
    "A1. The three measures of central tendency are mean, median, and mode.\n",
    "\n",
    "A2. Mean, median, and mode are measures of central tendency that describe the center of a dataset. \n",
    "The mean is the average value of a dataset, calculated by adding up all the values and dividing by the total number of values. \n",
    "The median is the middle value in a dataset when the values are arranged in order, and the mode is the value that appears most\n",
    "frequently in a dataset. These measures are used to provide a summary of the typical value of a dataset.\n",
    "\n",
    "A3. The mean of the given data is 176.94, the median is 177, and the mode is 178.\n",
    "\n",
    "A4. The standard deviation of the given data is 1.98.\n",
    "\n",
    "A5. Measures of dispersion such as range, variance, and standard deviation are used to describe the spread of a dataset.\n",
    "The range is the difference between the maximum and minimum values of a dataset. Variance is a measure of how spread out the\n",
    "data is from the mean, and standard deviation is the square root of the variance. These measures are used to provide information\n",
    "about how spread out the data is and how tightly clustered the values are around the central tendency.\n",
    "For example, if you are comparing the test scores of two groups of students, the group with a smaller standard deviation\n",
    "will have test scores that are more tightly clustered around the mean, indicating that the students in that group had a more\n",
    "consistent performance on the test.\n",
    "\n",
    "A6. A Venn diagram is a graphical representation of the relationships between different sets of data.\n",
    "It consists of overlapping circles or other shapes that represent the different sets, and the areas where the shapes \n",
    "overlap represent the intersections between the sets.\n",
    "\n",
    "A7. (i) A U B = (0,2,3,4,5,6,7,8,10)\n",
    "(ii) A intersect B = (2,6)\n",
    "\n",
    "A8. Skewness is a measure of the asymmetry of a probability distribution.\n",
    "In other words, it describes the degree to which a dataset deviates from a normal distribution.\n",
    "A symmetric distribution has no skewness, while an asymmetric distribution will have either positive (right) or negative (left) skewness.\n",
    "Positive skewness means that the tail on the right side of the distribution is longer or fatter than the left side,\n",
    "while negative skewness means the opposite.\n",
    "\n",
    "A9. on the right , mean will have higher value than median\n",
    "\n",
    "A10. Covariance and correlation are both measures of the relationship between two variables in a dataset.\n",
    "Covariance measures how much two variables vary together, while correlation measures the strength and direction of the\n",
    "relationship between the two variables.\n",
    "The main difference between covariance and correlation is that covariance is a measure of the joint variability of two random variables,\n",
    "while correlation is a normalized measure of the linear association between two random variables.\n",
    "Covariance can take any value between positive and negative infinity, whereas correlation always takes values between -1 and 1.\n",
    "In statistical analysis, both covariance and correlation are used to analyze the relationship between two variables. \n",
    "However, correlation is more commonly used than covariance, since it is easier to interpret and compare across different datasets.\n",
    "\n",
    "'''\n"
   ]
  },
  {
   "cell_type": "markdown",
   "id": "e1118ed8-4bd3-446c-bfbb-acf84c4060f7",
   "metadata": {},
   "source": [
    "## 11"
   ]
  },
  {
   "cell_type": "code",
   "execution_count": 1,
   "id": "0b90edbf-b9e9-4a6a-99d9-313226ca7d66",
   "metadata": {},
   "outputs": [
    {
     "data": {
      "text/html": [
       "<div>\n",
       "<style scoped>\n",
       "    .dataframe tbody tr th:only-of-type {\n",
       "        vertical-align: middle;\n",
       "    }\n",
       "\n",
       "    .dataframe tbody tr th {\n",
       "        vertical-align: top;\n",
       "    }\n",
       "\n",
       "    .dataframe thead th {\n",
       "        text-align: right;\n",
       "    }\n",
       "</style>\n",
       "<table border=\"1\" class=\"dataframe\">\n",
       "  <thead>\n",
       "    <tr style=\"text-align: right;\">\n",
       "      <th></th>\n",
       "      <th>total_bill</th>\n",
       "      <th>tip</th>\n",
       "      <th>sex</th>\n",
       "      <th>smoker</th>\n",
       "      <th>day</th>\n",
       "      <th>time</th>\n",
       "      <th>size</th>\n",
       "    </tr>\n",
       "  </thead>\n",
       "  <tbody>\n",
       "    <tr>\n",
       "      <th>0</th>\n",
       "      <td>16.99</td>\n",
       "      <td>1.01</td>\n",
       "      <td>Female</td>\n",
       "      <td>No</td>\n",
       "      <td>Sun</td>\n",
       "      <td>Dinner</td>\n",
       "      <td>2</td>\n",
       "    </tr>\n",
       "    <tr>\n",
       "      <th>1</th>\n",
       "      <td>10.34</td>\n",
       "      <td>1.66</td>\n",
       "      <td>Male</td>\n",
       "      <td>No</td>\n",
       "      <td>Sun</td>\n",
       "      <td>Dinner</td>\n",
       "      <td>3</td>\n",
       "    </tr>\n",
       "    <tr>\n",
       "      <th>2</th>\n",
       "      <td>21.01</td>\n",
       "      <td>3.50</td>\n",
       "      <td>Male</td>\n",
       "      <td>No</td>\n",
       "      <td>Sun</td>\n",
       "      <td>Dinner</td>\n",
       "      <td>3</td>\n",
       "    </tr>\n",
       "    <tr>\n",
       "      <th>3</th>\n",
       "      <td>23.68</td>\n",
       "      <td>3.31</td>\n",
       "      <td>Male</td>\n",
       "      <td>No</td>\n",
       "      <td>Sun</td>\n",
       "      <td>Dinner</td>\n",
       "      <td>2</td>\n",
       "    </tr>\n",
       "    <tr>\n",
       "      <th>4</th>\n",
       "      <td>24.59</td>\n",
       "      <td>3.61</td>\n",
       "      <td>Female</td>\n",
       "      <td>No</td>\n",
       "      <td>Sun</td>\n",
       "      <td>Dinner</td>\n",
       "      <td>4</td>\n",
       "    </tr>\n",
       "  </tbody>\n",
       "</table>\n",
       "</div>"
      ],
      "text/plain": [
       "   total_bill   tip     sex smoker  day    time  size\n",
       "0       16.99  1.01  Female     No  Sun  Dinner     2\n",
       "1       10.34  1.66    Male     No  Sun  Dinner     3\n",
       "2       21.01  3.50    Male     No  Sun  Dinner     3\n",
       "3       23.68  3.31    Male     No  Sun  Dinner     2\n",
       "4       24.59  3.61  Female     No  Sun  Dinner     4"
      ]
     },
     "execution_count": 1,
     "metadata": {},
     "output_type": "execute_result"
    }
   ],
   "source": [
    "\n",
    "# A11. x_mean = 1/n * sigma{i=1 to n} x_i\n",
    "\n",
    "import seaborn as sns\n",
    "df=sns.load_dataset('tips')\n",
    "df.head()\n"
   ]
  },
  {
   "cell_type": "code",
   "execution_count": 3,
   "id": "04d8bc87-70ff-44d3-8759-7ca94c1a7347",
   "metadata": {},
   "outputs": [
    {
     "data": {
      "text/plain": [
       "2.99827868852459"
      ]
     },
     "execution_count": 3,
     "metadata": {},
     "output_type": "execute_result"
    }
   ],
   "source": [
    "df.tip.mean()"
   ]
  },
  {
   "cell_type": "markdown",
   "id": "b457b3b1-cdac-4d71-84e6-4eaea97f0a0a",
   "metadata": {},
   "source": [
    "## 12"
   ]
  },
  {
   "cell_type": "code",
   "execution_count": null,
   "id": "16b7ef94-6430-4a2c-9ee7-9e5fb77939cd",
   "metadata": {},
   "outputs": [],
   "source": [
    "# all are equal"
   ]
  },
  {
   "cell_type": "markdown",
   "id": "ff30589d-cfe3-4276-afc4-648777969fbf",
   "metadata": {},
   "source": [
    "## 13"
   ]
  },
  {
   "cell_type": "code",
   "execution_count": null,
   "id": "844b6ac7-5765-4bd5-a442-300999f06c98",
   "metadata": {},
   "outputs": [],
   "source": [
    "'''\n",
    "Covariance and correlation are both measures of the relationship between two variables in a dataset.\n",
    "Covariance measures how much two variables vary together, while correlation measures the strength and direction of the\n",
    "relationship between the two variables.\n",
    "The main difference between covariance and correlation is that covariance is a measure of the joint variability of two random variables,\n",
    "while correlation is a normalized measure of the linear association between two random variables.\n",
    "Covariance can take any value between positive and negative infinity, whereas correlation always takes values between -1 and 1.\n",
    "In statistical analysis, both covariance and correlation are used to analyze the relationship between two variables. \n",
    "However, correlation is more commonly used than covariance, since it is easier to interpret and compare across different datasets.'''"
   ]
  },
  {
   "cell_type": "markdown",
   "id": "20b4b411-83e9-4bb3-b8eb-1ee02379e271",
   "metadata": {},
   "source": [
    "## 14"
   ]
  },
  {
   "cell_type": "code",
   "execution_count": null,
   "id": "45f83095-e449-4521-bba1-9516fdc04c30",
   "metadata": {},
   "outputs": [],
   "source": [
    "'''\n",
    "Outliers can have a significant impact on measures of central tendency and dispersion,\n",
    "especially if they are extreme values that are far from the other data points.\n",
    "For measures of central tendency like the mean, outliers can pull the average value towards themselves, \n",
    "making it an inaccurate representation of the rest of the data. For example, if we have a dataset of salaries in a company,\n",
    "and the CEO's salary is much higher than all the other employees, the mean salary would be higher than what most employees earn, \n",
    "which could be misleading.\n",
    "For measures of dispersion like the range, outliers can also greatly affect the result by increasing the distance between the \n",
    "highest and lowest values in the dataset. This can lead to an overestimation of the variability of the data.\n",
    "For example, consider the dataset {1, 2, 3, 4, 100}. The mean of this dataset is (1 + 2 + 3 + 4 + 100) / 5 = 22,\n",
    "which is largely influenced by the outlier value of 100. The median, which is the middle value of the dataset,\n",
    "would be less influenced by the outlier and would be 3. The range of this dataset is 100 - 1 = 99, \n",
    "which is also greatly influenced by the outlier value of 100.'''"
   ]
  }
 ],
 "metadata": {
  "kernelspec": {
   "display_name": "Python 3 (ipykernel)",
   "language": "python",
   "name": "python3"
  },
  "language_info": {
   "codemirror_mode": {
    "name": "ipython",
    "version": 3
   },
   "file_extension": ".py",
   "mimetype": "text/x-python",
   "name": "python",
   "nbconvert_exporter": "python",
   "pygments_lexer": "ipython3",
   "version": "3.10.8"
  }
 },
 "nbformat": 4,
 "nbformat_minor": 5
}
