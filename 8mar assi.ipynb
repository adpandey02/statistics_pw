{
 "cells": [
  {
   "cell_type": "markdown",
   "id": "2652cdc3-39cf-4024-b01e-62fd3154856c",
   "metadata": {},
   "source": [
    "## 1"
   ]
  },
  {
   "cell_type": "code",
   "execution_count": null,
   "id": "d58eaa99-3fc7-46c1-8471-edd0b2ce8632",
   "metadata": {},
   "outputs": [],
   "source": [
    "'''\n",
    "A1. Probability density function (PDF) is a function used to describe the probability distribution of a continuous random variable.\n",
    "It represents the relative likelihood of the random variable taking on a particular value. \n",
    "The area under the curve of the PDF between two points represents the probability that the random variable takes on a value within that range.\n",
    "'''"
   ]
  },
  {
   "cell_type": "markdown",
   "id": "13c976a5-2964-4465-bfff-ce88854ed47c",
   "metadata": {},
   "source": [
    "## 2"
   ]
  },
  {
   "cell_type": "code",
   "execution_count": null,
   "id": "15e85f36-03d6-41c2-84b8-e4526022cab8",
   "metadata": {},
   "outputs": [],
   "source": [
    "'''\n",
    "A2. There are several types of probability distributions, including:\n",
    "\n",
    "Normal Distribution: A continuous probability distribution that is often used to describe real-world phenomena, such as measurement errors and test scores. It has a bell-shaped curve and is defined by two parameters: mean and standard deviation.\n",
    "Binomial Distribution: A discrete probability distribution that models the number of successes in a fixed number of independent trials, each with the same probability of success.\n",
    "Poisson Distribution: A discrete probability distribution that models the number of events occurring in a fixed interval of time or space when events occur randomly and independently at a constant average rate.\n",
    "Exponential Distribution: A continuous probability distribution that models the time between events in a Poisson process.\n",
    "Chi-Square Distribution: A continuous probability distribution that arises from the sum of the squares of independent standard normal random variables.\n",
    "Student's t-Distribution: A continuous probability distribution that arises from the ratio of a standard normal random variable to the square root of a chi-square random variable.\n",
    "F-Distribution: A continuous probability distribution that arises from the ratio of two chi-square random variables.\n",
    "'''"
   ]
  },
  {
   "cell_type": "markdown",
   "id": "d30547b4-81ab-42fa-8b10-56bb77a442a0",
   "metadata": {},
   "source": [
    "## 3"
   ]
  },
  {
   "cell_type": "code",
   "execution_count": 1,
   "id": "ba900cb2-dab3-4530-9818-a664cf7b1fbf",
   "metadata": {},
   "outputs": [],
   "source": [
    "import math\n",
    "\n",
    "def normal_pdf(x, mean, std_dev):\n",
    "    exponent = -1/2 * ((x - mean) / std_dev) ** 2\n",
    "    coefficient = 1 / (std_dev * math.sqrt(2 * math.pi))\n",
    "    return coefficient * math.exp(exponent)\n"
   ]
  },
  {
   "cell_type": "code",
   "execution_count": 2,
   "id": "ded7e6d2-19dd-4c01-b528-295c90df565f",
   "metadata": {},
   "outputs": [
    {
     "data": {
      "text/plain": [
       "0.05399096651318806"
      ]
     },
     "execution_count": 2,
     "metadata": {},
     "output_type": "execute_result"
    }
   ],
   "source": [
    "normal_pdf(2, 0, 1)"
   ]
  },
  {
   "cell_type": "markdown",
   "id": "e1a7593d-3b5d-44c1-98c2-240fd92fc27f",
   "metadata": {},
   "source": [
    "## 4"
   ]
  },
  {
   "cell_type": "code",
   "execution_count": null,
   "id": "a9346414-54dd-4194-8339-4586789fd54d",
   "metadata": {},
   "outputs": [],
   "source": [
    "'''\n",
    "1. The trials are independent: The outcome of one trial does not affect the outcome of the other trials.\n",
    "\n",
    "2. The probability of success is constant: The probability of success is the same for each trial.\n",
    "\n",
    "3. There are a fixed number of trials: The number of trials is fixed in advance and does not change.\n",
    "\n",
    "4. The random variable is discrete: The number of successes is a whole number.\n",
    "\n",
    "5. The distribution is parameterized by n and p: The Binomial distribution is defined by two parameters, n and p, where n is the number of trials and p is the probability of success on each trial.\n",
    "\n",
    "Examples of events where the Binomial distribution can be applied include:\n",
    "Flipping a coin: If you flip a fair coin n times, the number of heads you get follows a Binomial distribution with n\n",
    "trials and p=0.5 probability of success on each trial.\n",
    "\n",
    "Quality control: A factory produces light bulbs and tests each one to see if it is defective.\n",
    "Suppose that the probability that a bulb is defective is p=0.05. If the factory tests n bulbs,\n",
    "the number of defective bulbs follows a Binomial distribution with n trials and p=0.05 probability of success on each trial.\n",
    "This distribution can be used to calculate the probability of finding a certain number of defective bulbs in a batch."
   ]
  },
  {
   "cell_type": "markdown",
   "id": "40a31b2d-2c75-464c-a911-81faef5f4033",
   "metadata": {},
   "source": [
    "## 5"
   ]
  },
  {
   "cell_type": "code",
   "execution_count": 9,
   "id": "8ad89f0d-bf22-4cb6-9750-31889323f167",
   "metadata": {},
   "outputs": [
    {
     "data": {
      "text/plain": [
       "<AxesSubplot: ylabel='Count'>"
      ]
     },
     "execution_count": 9,
     "metadata": {},
     "output_type": "execute_result"
    },
    {
     "data": {
      "image/png": "[encoded data removed]",
      "text/plain": [
       "<Figure size 640x480 with 1 Axes>"
      ]
     },
     "metadata": {},
     "output_type": "display_data"
    }
   ],
   "source": [
    "import numpy as np\n",
    "import matplotlib.pyplot as plt\n",
    "# srry i prefer seaborn over matplotlib\n",
    "import seaborn as sns\n",
    "\n",
    "sample = np.random.binomial(n=1000, p=0.4, size=1000)\n",
    "sns.histplot(sample, kde=True)"
   ]
  },
  {
   "cell_type": "markdown",
   "id": "f11c51f4-f832-48f0-9827-f7757c89eca8",
   "metadata": {},
   "source": [
    "## 6"
   ]
  },
  {
   "cell_type": "code",
   "execution_count": 11,
   "id": "b5ddb480-34ed-4da7-b5b5-49c1d82f5a41",
   "metadata": {},
   "outputs": [],
   "source": [
    "# lamda = mean , same thing in poisson distribution\n",
    "# x is point upto which we calculate cumulative distribution function\n",
    "\n",
    "def poisson_cdf(lamda, x):\n",
    "    cum_prob = 0.0\n",
    "    for i in range(x+1):\n",
    "        pmf_i = np.exp(-lamda) * (lamda ** x) / np.math.factorial(x)\n",
    "        cum_prob += pmf_i\n",
    "    return cum_prob\n"
   ]
  },
  {
   "cell_type": "code",
   "execution_count": 12,
   "id": "34a65496-92fe-4939-be3d-9fb1a9ae569b",
   "metadata": {},
   "outputs": [
    {
     "data": {
      "text/plain": [
       "0.6721254229661633"
      ]
     },
     "execution_count": 12,
     "metadata": {},
     "output_type": "execute_result"
    }
   ],
   "source": [
    "poisson_cdf(3, 2)"
   ]
  },
  {
   "cell_type": "markdown",
   "id": "bb964664-34b1-4155-9f39-880f32a23344",
   "metadata": {},
   "source": [
    "## 7"
   ]
  },
  {
   "cell_type": "code",
   "execution_count": null,
   "id": "88fdd056-6154-4d98-9c96-aea1150e8917",
   "metadata": {},
   "outputs": [],
   "source": [
    "'''\n",
    "The binomial distribution models the number of successes in a fixed number of trials, while the Poisson distribution models \n",
    "the number of events in a fixed interval of time or space.\n",
    "The binomial distribution assumes that each trial is independent and has the same probability of success, while the Poisson distribution\n",
    "assumes that the events occur randomly and independently at a constant rate.\n",
    "The binomial distribution has two parameters: the number of trials n and the probability of success p. The Poisson distribution has only \n",
    "one parameter, the mean mu, which also equals the variance.\n",
    "The binomial distribution is discrete and takes on only integer values, while the Poisson distribution is also discrete but can take on any \n",
    "non-negative integer value.\n",
    "The binomial distribution approaches the Poisson distribution as the number of trials becomes very large and the probability of success \n",
    "becomes very small, with mu = np, where n is the number of trials and p is the probability of success. This is known as the Poisson\n",
    "approximation to the binomial distribution."
   ]
  },
  {
   "cell_type": "markdown",
   "id": "53b6bfc1-1f86-42b3-b2dd-d2fdfc667e5e",
   "metadata": {},
   "source": [
    "## 8"
   ]
  },
  {
   "cell_type": "code",
   "execution_count": 13,
   "id": "9f7dd2ee-82b9-4cd4-a514-1117c1a6186d",
   "metadata": {},
   "outputs": [
    {
     "name": "stdout",
     "output_type": "stream",
     "text": [
      "Sample Mean: 5.016\n",
      "Sample Variance: 4.917743999999999\n"
     ]
    }
   ],
   "source": [
    "\n",
    "sample = np.random.poisson(5, size=1000)\n",
    "\n",
    "sample_mean = np.mean(sample)\n",
    "sample_var = np.var(sample)\n",
    "\n",
    "print(\"Sample Mean:\", sample_mean)\n",
    "print(\"Sample Variance:\", sample_var)\n",
    "\n"
   ]
  },
  {
   "cell_type": "markdown",
   "id": "27a900fc-b6c2-46cd-88d6-3f1e710135c1",
   "metadata": {},
   "source": [
    "## 9"
   ]
  },
  {
   "cell_type": "code",
   "execution_count": null,
   "id": "19a3b1a3-b0f4-4cc6-a5f9-c5fac3b083a3",
   "metadata": {},
   "outputs": [],
   "source": [
    "'''\n",
    "in both binomial and Poisson distributions, the mean and variance are related, but the specific relationship is different. \n",
    "In the binomial distribution, the variance is a function of both the number of trials and the probability of success,\n",
    "while in the Poisson distribution, the variance is solely a function of the mean. Additionally, in the Poisson distribution, \n",
    "the mean and variance are equal, while in the binomial distribution, they are only equal when p is equal to 0 or 1."
   ]
  },
  {
   "cell_type": "markdown",
   "id": "5ac961a6-9226-4cf3-b9ba-538bd1551577",
   "metadata": {},
   "source": [
    "## 10"
   ]
  },
  {
   "cell_type": "code",
   "execution_count": null,
   "id": "0381da9d-bad8-4b96-b09e-b75ab2324285",
   "metadata": {},
   "outputs": [],
   "source": [
    "''' at the tails ends '''"
   ]
  }
 ],
 "metadata": {
  "kernelspec": {
   "display_name": "Python 3 (ipykernel)",
   "language": "python",
   "name": "python3"
  },
  "language_info": {
   "codemirror_mode": {
    "name": "ipython",
    "version": 3
   },
   "file_extension": ".py",
   "mimetype": "text/x-python",
   "name": "python",
   "nbconvert_exporter": "python",
   "pygments_lexer": "ipython3",
   "version": "3.10.8"
  }
 },
 "nbformat": 4,
 "nbformat_minor": 5
}
